{
 "cells": [
  {
   "cell_type": "code",
   "execution_count": 1,
   "metadata": {},
   "outputs": [],
   "source": [
    "import pandas as pd\n",
    "import numpy as np\n",
    "import seaborn as sns\n",
    "import matplotlib.pyplot as plt\n",
    "import warnings\n",
    "warnings.filterwarnings(\"ignore\")\n",
    "%matplotlib inline "
   ]
  },
  {
   "cell_type": "code",
   "execution_count": 2,
   "metadata": {},
   "outputs": [],
   "source": [
    "df = pd.read_csv('spam.csv', encoding='latin1')"
   ]
  },
  {
   "cell_type": "code",
   "execution_count": 3,
   "metadata": {},
   "outputs": [
    {
     "data": {
      "text/plain": [
       "(5572, 5)"
      ]
     },
     "execution_count": 3,
     "metadata": {},
     "output_type": "execute_result"
    }
   ],
   "source": [
    "df.shape"
   ]
  },
  {
   "cell_type": "code",
   "execution_count": 4,
   "metadata": {},
   "outputs": [
    {
     "data": {
      "text/html": [
       "<div>\n",
       "<style scoped>\n",
       "    .dataframe tbody tr th:only-of-type {\n",
       "        vertical-align: middle;\n",
       "    }\n",
       "\n",
       "    .dataframe tbody tr th {\n",
       "        vertical-align: top;\n",
       "    }\n",
       "\n",
       "    .dataframe thead th {\n",
       "        text-align: right;\n",
       "    }\n",
       "</style>\n",
       "<table border=\"1\" class=\"dataframe\">\n",
       "  <thead>\n",
       "    <tr style=\"text-align: right;\">\n",
       "      <th></th>\n",
       "      <th>v1</th>\n",
       "      <th>v2</th>\n",
       "      <th>Unnamed: 2</th>\n",
       "      <th>Unnamed: 3</th>\n",
       "      <th>Unnamed: 4</th>\n",
       "    </tr>\n",
       "  </thead>\n",
       "  <tbody>\n",
       "    <tr>\n",
       "      <th>0</th>\n",
       "      <td>ham</td>\n",
       "      <td>Go until jurong point, crazy.. Available only ...</td>\n",
       "      <td>NaN</td>\n",
       "      <td>NaN</td>\n",
       "      <td>NaN</td>\n",
       "    </tr>\n",
       "    <tr>\n",
       "      <th>1</th>\n",
       "      <td>ham</td>\n",
       "      <td>Ok lar... Joking wif u oni...</td>\n",
       "      <td>NaN</td>\n",
       "      <td>NaN</td>\n",
       "      <td>NaN</td>\n",
       "    </tr>\n",
       "    <tr>\n",
       "      <th>2</th>\n",
       "      <td>spam</td>\n",
       "      <td>Free entry in 2 a wkly comp to win FA Cup fina...</td>\n",
       "      <td>NaN</td>\n",
       "      <td>NaN</td>\n",
       "      <td>NaN</td>\n",
       "    </tr>\n",
       "    <tr>\n",
       "      <th>3</th>\n",
       "      <td>ham</td>\n",
       "      <td>U dun say so early hor... U c already then say...</td>\n",
       "      <td>NaN</td>\n",
       "      <td>NaN</td>\n",
       "      <td>NaN</td>\n",
       "    </tr>\n",
       "    <tr>\n",
       "      <th>4</th>\n",
       "      <td>ham</td>\n",
       "      <td>Nah I don't think he goes to usf, he lives aro...</td>\n",
       "      <td>NaN</td>\n",
       "      <td>NaN</td>\n",
       "      <td>NaN</td>\n",
       "    </tr>\n",
       "  </tbody>\n",
       "</table>\n",
       "</div>"
      ],
      "text/plain": [
       "     v1                                                 v2 Unnamed: 2  \\\n",
       "0   ham  Go until jurong point, crazy.. Available only ...        NaN   \n",
       "1   ham                      Ok lar... Joking wif u oni...        NaN   \n",
       "2  spam  Free entry in 2 a wkly comp to win FA Cup fina...        NaN   \n",
       "3   ham  U dun say so early hor... U c already then say...        NaN   \n",
       "4   ham  Nah I don't think he goes to usf, he lives aro...        NaN   \n",
       "\n",
       "  Unnamed: 3 Unnamed: 4  \n",
       "0        NaN        NaN  \n",
       "1        NaN        NaN  \n",
       "2        NaN        NaN  \n",
       "3        NaN        NaN  \n",
       "4        NaN        NaN  "
      ]
     },
     "execution_count": 4,
     "metadata": {},
     "output_type": "execute_result"
    }
   ],
   "source": [
    "df.head()"
   ]
  },
  {
   "cell_type": "code",
   "execution_count": 5,
   "metadata": {},
   "outputs": [],
   "source": [
    "#Drop unwanted column\n",
    "df.drop(['Unnamed: 2','Unnamed: 3','Unnamed: 4'], axis=1, inplace=True)"
   ]
  },
  {
   "cell_type": "code",
   "execution_count": 6,
   "metadata": {},
   "outputs": [
    {
     "data": {
      "text/html": [
       "<div>\n",
       "<style scoped>\n",
       "    .dataframe tbody tr th:only-of-type {\n",
       "        vertical-align: middle;\n",
       "    }\n",
       "\n",
       "    .dataframe tbody tr th {\n",
       "        vertical-align: top;\n",
       "    }\n",
       "\n",
       "    .dataframe thead th {\n",
       "        text-align: right;\n",
       "    }\n",
       "</style>\n",
       "<table border=\"1\" class=\"dataframe\">\n",
       "  <thead>\n",
       "    <tr style=\"text-align: right;\">\n",
       "      <th></th>\n",
       "      <th>v1</th>\n",
       "      <th>v2</th>\n",
       "    </tr>\n",
       "  </thead>\n",
       "  <tbody>\n",
       "    <tr>\n",
       "      <th>0</th>\n",
       "      <td>ham</td>\n",
       "      <td>Go until jurong point, crazy.. Available only ...</td>\n",
       "    </tr>\n",
       "    <tr>\n",
       "      <th>1</th>\n",
       "      <td>ham</td>\n",
       "      <td>Ok lar... Joking wif u oni...</td>\n",
       "    </tr>\n",
       "    <tr>\n",
       "      <th>2</th>\n",
       "      <td>spam</td>\n",
       "      <td>Free entry in 2 a wkly comp to win FA Cup fina...</td>\n",
       "    </tr>\n",
       "    <tr>\n",
       "      <th>3</th>\n",
       "      <td>ham</td>\n",
       "      <td>U dun say so early hor... U c already then say...</td>\n",
       "    </tr>\n",
       "    <tr>\n",
       "      <th>4</th>\n",
       "      <td>ham</td>\n",
       "      <td>Nah I don't think he goes to usf, he lives aro...</td>\n",
       "    </tr>\n",
       "  </tbody>\n",
       "</table>\n",
       "</div>"
      ],
      "text/plain": [
       "     v1                                                 v2\n",
       "0   ham  Go until jurong point, crazy.. Available only ...\n",
       "1   ham                      Ok lar... Joking wif u oni...\n",
       "2  spam  Free entry in 2 a wkly comp to win FA Cup fina...\n",
       "3   ham  U dun say so early hor... U c already then say...\n",
       "4   ham  Nah I don't think he goes to usf, he lives aro..."
      ]
     },
     "execution_count": 6,
     "metadata": {},
     "output_type": "execute_result"
    }
   ],
   "source": [
    "df.head()"
   ]
  },
  {
   "cell_type": "code",
   "execution_count": 7,
   "metadata": {},
   "outputs": [
    {
     "data": {
      "text/html": [
       "<div>\n",
       "<style scoped>\n",
       "    .dataframe tbody tr th:only-of-type {\n",
       "        vertical-align: middle;\n",
       "    }\n",
       "\n",
       "    .dataframe tbody tr th {\n",
       "        vertical-align: top;\n",
       "    }\n",
       "\n",
       "    .dataframe thead th {\n",
       "        text-align: right;\n",
       "    }\n",
       "</style>\n",
       "<table border=\"1\" class=\"dataframe\">\n",
       "  <thead>\n",
       "    <tr style=\"text-align: right;\">\n",
       "      <th></th>\n",
       "      <th>Lable</th>\n",
       "      <th>Message</th>\n",
       "    </tr>\n",
       "  </thead>\n",
       "  <tbody>\n",
       "    <tr>\n",
       "      <th>0</th>\n",
       "      <td>ham</td>\n",
       "      <td>Go until jurong point, crazy.. Available only ...</td>\n",
       "    </tr>\n",
       "    <tr>\n",
       "      <th>1</th>\n",
       "      <td>ham</td>\n",
       "      <td>Ok lar... Joking wif u oni...</td>\n",
       "    </tr>\n",
       "    <tr>\n",
       "      <th>2</th>\n",
       "      <td>spam</td>\n",
       "      <td>Free entry in 2 a wkly comp to win FA Cup fina...</td>\n",
       "    </tr>\n",
       "    <tr>\n",
       "      <th>3</th>\n",
       "      <td>ham</td>\n",
       "      <td>U dun say so early hor... U c already then say...</td>\n",
       "    </tr>\n",
       "    <tr>\n",
       "      <th>4</th>\n",
       "      <td>ham</td>\n",
       "      <td>Nah I don't think he goes to usf, he lives aro...</td>\n",
       "    </tr>\n",
       "  </tbody>\n",
       "</table>\n",
       "</div>"
      ],
      "text/plain": [
       "  Lable                                            Message\n",
       "0   ham  Go until jurong point, crazy.. Available only ...\n",
       "1   ham                      Ok lar... Joking wif u oni...\n",
       "2  spam  Free entry in 2 a wkly comp to win FA Cup fina...\n",
       "3   ham  U dun say so early hor... U c already then say...\n",
       "4   ham  Nah I don't think he goes to usf, he lives aro..."
      ]
     },
     "execution_count": 7,
     "metadata": {},
     "output_type": "execute_result"
    }
   ],
   "source": [
    "#Rename the Column \n",
    "df.rename(columns={'v1':'Lable','v2':\"Message\"},inplace=True)\n",
    "df.head()"
   ]
  },
  {
   "cell_type": "markdown",
   "metadata": {},
   "source": [
    "# EDA (Exploratoy Data Analysis)"
   ]
  },
  {
   "cell_type": "code",
   "execution_count": 8,
   "metadata": {},
   "outputs": [
    {
     "data": {
      "text/html": [
       "<div>\n",
       "<style scoped>\n",
       "    .dataframe tbody tr th:only-of-type {\n",
       "        vertical-align: middle;\n",
       "    }\n",
       "\n",
       "    .dataframe tbody tr th {\n",
       "        vertical-align: top;\n",
       "    }\n",
       "\n",
       "    .dataframe thead tr th {\n",
       "        text-align: left;\n",
       "    }\n",
       "\n",
       "    .dataframe thead tr:last-of-type th {\n",
       "        text-align: right;\n",
       "    }\n",
       "</style>\n",
       "<table border=\"1\" class=\"dataframe\">\n",
       "  <thead>\n",
       "    <tr>\n",
       "      <th></th>\n",
       "      <th colspan=\"4\" halign=\"left\">Message</th>\n",
       "    </tr>\n",
       "    <tr>\n",
       "      <th></th>\n",
       "      <th>count</th>\n",
       "      <th>unique</th>\n",
       "      <th>top</th>\n",
       "      <th>freq</th>\n",
       "    </tr>\n",
       "    <tr>\n",
       "      <th>Lable</th>\n",
       "      <th></th>\n",
       "      <th></th>\n",
       "      <th></th>\n",
       "      <th></th>\n",
       "    </tr>\n",
       "  </thead>\n",
       "  <tbody>\n",
       "    <tr>\n",
       "      <th>ham</th>\n",
       "      <td>4825</td>\n",
       "      <td>4516</td>\n",
       "      <td>Sorry, I'll call later</td>\n",
       "      <td>30</td>\n",
       "    </tr>\n",
       "    <tr>\n",
       "      <th>spam</th>\n",
       "      <td>747</td>\n",
       "      <td>653</td>\n",
       "      <td>Please call our customer service representativ...</td>\n",
       "      <td>4</td>\n",
       "    </tr>\n",
       "  </tbody>\n",
       "</table>\n",
       "</div>"
      ],
      "text/plain": [
       "      Message                                                               \n",
       "        count unique                                                top freq\n",
       "Lable                                                                       \n",
       "ham      4825   4516                             Sorry, I'll call later   30\n",
       "spam      747    653  Please call our customer service representativ...    4"
      ]
     },
     "execution_count": 8,
     "metadata": {},
     "output_type": "execute_result"
    }
   ],
   "source": [
    "#Describe with Respect to Lable\n",
    "df.groupby('Lable').describe()"
   ]
  },
  {
   "cell_type": "code",
   "execution_count": 9,
   "metadata": {},
   "outputs": [
    {
     "data": {
      "text/html": [
       "<div>\n",
       "<style scoped>\n",
       "    .dataframe tbody tr th:only-of-type {\n",
       "        vertical-align: middle;\n",
       "    }\n",
       "\n",
       "    .dataframe tbody tr th {\n",
       "        vertical-align: top;\n",
       "    }\n",
       "\n",
       "    .dataframe thead th {\n",
       "        text-align: right;\n",
       "    }\n",
       "</style>\n",
       "<table border=\"1\" class=\"dataframe\">\n",
       "  <thead>\n",
       "    <tr style=\"text-align: right;\">\n",
       "      <th></th>\n",
       "      <th>Lable</th>\n",
       "      <th>Message</th>\n",
       "    </tr>\n",
       "  </thead>\n",
       "  <tbody>\n",
       "    <tr>\n",
       "      <th>count</th>\n",
       "      <td>5572</td>\n",
       "      <td>5572</td>\n",
       "    </tr>\n",
       "    <tr>\n",
       "      <th>unique</th>\n",
       "      <td>2</td>\n",
       "      <td>5169</td>\n",
       "    </tr>\n",
       "    <tr>\n",
       "      <th>top</th>\n",
       "      <td>ham</td>\n",
       "      <td>Sorry, I'll call later</td>\n",
       "    </tr>\n",
       "    <tr>\n",
       "      <th>freq</th>\n",
       "      <td>4825</td>\n",
       "      <td>30</td>\n",
       "    </tr>\n",
       "  </tbody>\n",
       "</table>\n",
       "</div>"
      ],
      "text/plain": [
       "       Lable                 Message\n",
       "count   5572                    5572\n",
       "unique     2                    5169\n",
       "top      ham  Sorry, I'll call later\n",
       "freq    4825                      30"
      ]
     },
     "execution_count": 9,
     "metadata": {},
     "output_type": "execute_result"
    }
   ],
   "source": [
    "df.describe(include='all')"
   ]
  },
  {
   "cell_type": "code",
   "execution_count": 10,
   "metadata": {},
   "outputs": [
    {
     "data": {
      "text/plain": [
       "'From above information, we know that:\\n\\nonly about 15% of the text messages is classified as a spam.\\nthere are some duplicate messages, since the number of unique values lower than the count values of the text.\\nin the next part, let check the length of each text messages to see whether it is correlated with the text classified as a spam or not.'"
      ]
     },
     "execution_count": 10,
     "metadata": {},
     "output_type": "execute_result"
    }
   ],
   "source": [
    "'''From above information, we know that:\n",
    "\n",
    "only about 15% of the text messages is classified as a spam.\n",
    "there are some duplicate messages, since the number of unique values lower than the count values of the text.\n",
    "in the next part, let check the length of each text messages to see whether it is correlated with the text classified as a spam or not.'''"
   ]
  },
  {
   "cell_type": "code",
   "execution_count": 11,
   "metadata": {},
   "outputs": [],
   "source": [
    "df['length'] = df['Message'].apply(len)"
   ]
  },
  {
   "cell_type": "code",
   "execution_count": 12,
   "metadata": {},
   "outputs": [
    {
     "data": {
      "text/html": [
       "<div>\n",
       "<style scoped>\n",
       "    .dataframe tbody tr th:only-of-type {\n",
       "        vertical-align: middle;\n",
       "    }\n",
       "\n",
       "    .dataframe tbody tr th {\n",
       "        vertical-align: top;\n",
       "    }\n",
       "\n",
       "    .dataframe thead th {\n",
       "        text-align: right;\n",
       "    }\n",
       "</style>\n",
       "<table border=\"1\" class=\"dataframe\">\n",
       "  <thead>\n",
       "    <tr style=\"text-align: right;\">\n",
       "      <th></th>\n",
       "      <th>Lable</th>\n",
       "      <th>Message</th>\n",
       "      <th>length</th>\n",
       "    </tr>\n",
       "  </thead>\n",
       "  <tbody>\n",
       "    <tr>\n",
       "      <th>0</th>\n",
       "      <td>ham</td>\n",
       "      <td>Go until jurong point, crazy.. Available only ...</td>\n",
       "      <td>111</td>\n",
       "    </tr>\n",
       "    <tr>\n",
       "      <th>1</th>\n",
       "      <td>ham</td>\n",
       "      <td>Ok lar... Joking wif u oni...</td>\n",
       "      <td>29</td>\n",
       "    </tr>\n",
       "    <tr>\n",
       "      <th>2</th>\n",
       "      <td>spam</td>\n",
       "      <td>Free entry in 2 a wkly comp to win FA Cup fina...</td>\n",
       "      <td>155</td>\n",
       "    </tr>\n",
       "    <tr>\n",
       "      <th>3</th>\n",
       "      <td>ham</td>\n",
       "      <td>U dun say so early hor... U c already then say...</td>\n",
       "      <td>49</td>\n",
       "    </tr>\n",
       "    <tr>\n",
       "      <th>4</th>\n",
       "      <td>ham</td>\n",
       "      <td>Nah I don't think he goes to usf, he lives aro...</td>\n",
       "      <td>61</td>\n",
       "    </tr>\n",
       "  </tbody>\n",
       "</table>\n",
       "</div>"
      ],
      "text/plain": [
       "  Lable                                            Message  length\n",
       "0   ham  Go until jurong point, crazy.. Available only ...     111\n",
       "1   ham                      Ok lar... Joking wif u oni...      29\n",
       "2  spam  Free entry in 2 a wkly comp to win FA Cup fina...     155\n",
       "3   ham  U dun say so early hor... U c already then say...      49\n",
       "4   ham  Nah I don't think he goes to usf, he lives aro...      61"
      ]
     },
     "execution_count": 12,
     "metadata": {},
     "output_type": "execute_result"
    }
   ],
   "source": [
    "df.head()"
   ]
  },
  {
   "cell_type": "code",
   "execution_count": 13,
   "metadata": {},
   "outputs": [
    {
     "data": {
      "text/plain": [
       "array([<matplotlib.axes._subplots.AxesSubplot object at 0x0000000009959780>,\n",
       "       <matplotlib.axes._subplots.AxesSubplot object at 0x00000000099AF0B8>],\n",
       "      dtype=object)"
      ]
     },
     "execution_count": 13,
     "metadata": {},
     "output_type": "execute_result"
    },
    {
     "data": {
      "image/png": "[encoded data removed]",
      "text/plain": [
       "<Figure size 1080x432 with 2 Axes>"
      ]
     },
     "metadata": {
      "needs_background": "light"
     },
     "output_type": "display_data"
    }
   ],
   "source": [
    "df.hist(column='length', by='Lable', bins=50, figsize=(15,6))"
   ]
  },
  {
   "cell_type": "code",
   "execution_count": 14,
   "metadata": {},
   "outputs": [
    {
     "data": {
      "text/plain": [
       "'from above figure, we can see that most of ham (or not spam) messages only have length under 200 \\nwhile spam messages  have higher lentgh above 140 or 150 approximately.'"
      ]
     },
     "execution_count": 14,
     "metadata": {},
     "output_type": "execute_result"
    }
   ],
   "source": [
    "'''from above figure, we can see that most of ham (or not spam) messages only have length under 200 \n",
    "while spam messages  have higher lentgh above 140 or 150 approximately.'''"
   ]
  },
  {
   "cell_type": "markdown",
   "metadata": {},
   "source": [
    "Distribution spam/non-spam plots"
   ]
  },
  {
   "cell_type": "code",
   "execution_count": 15,
   "metadata": {},
   "outputs": [],
   "source": [
    "count_Lable = pd.value_counts(df['Lable'], sort=True)\n"
   ]
  },
  {
   "cell_type": "code",
   "execution_count": 16,
   "metadata": {},
   "outputs": [
    {
     "data": {
      "image/png": "[encoded data removed]",
      "text/plain": [
       "<Figure size 432x288 with 1 Axes>"
      ]
     },
     "metadata": {
      "needs_background": "light"
     },
     "output_type": "display_data"
    }
   ],
   "source": [
    "count_Lable.plot(kind='bar', color=['blue','orange'] )\n",
    "plt.title(\"Bar Chart\")\n",
    "plt.show()"
   ]
  },
  {
   "cell_type": "code",
   "execution_count": 17,
   "metadata": {},
   "outputs": [
    {
     "data": {
      "image/png": "[encoded data removed]",
      "text/plain": [
       "<Figure size 432x288 with 1 Axes>"
      ]
     },
     "metadata": {},
     "output_type": "display_data"
    }
   ],
   "source": [
    "count_Lable.plot(kind='pie', autopct='%1.0f%%')\n",
    "plt.title=\"Pie Chart\"\n",
    "plt.show()"
   ]
  },
  {
   "cell_type": "code",
   "execution_count": 18,
   "metadata": {},
   "outputs": [],
   "source": [
    "from collections import Counter"
   ]
  },
  {
   "cell_type": "code",
   "execution_count": 19,
   "metadata": {},
   "outputs": [],
   "source": [
    "#Non Spam Message\n",
    "count1 = Counter(\" \".join(df[df['Lable']=='ham'][\"Message\"]).split()).most_common(20)\n",
    "df1 = pd.DataFrame.from_dict(count1)\n",
    "df1 = df1.rename(columns={0: \"words in non-spam\", 1 : \"count\"})\n",
    "\n",
    "\n",
    "#---------------------------------------------------------------------\n",
    "#Spam Message\n",
    "count2 = Counter(\" \".join(df[df['Lable']=='spam'][\"Message\"]).split()).most_common(20)\n",
    "df2 = pd.DataFrame.from_dict(count2)\n",
    "df2 = df2.rename(columns={0: \"words in spam\", 1 : \"count_\"})"
   ]
  },
  {
   "cell_type": "code",
   "execution_count": 20,
   "metadata": {},
   "outputs": [
    {
     "data": {
      "image/png": "[encoded data removed]",
      "text/plain": [
       "<Figure size 432x288 with 1 Axes>"
      ]
     },
     "metadata": {
      "needs_background": "light"
     },
     "output_type": "display_data"
    }
   ],
   "source": [
    "#Non Spam Words\n",
    "df1.plot.bar(legend = False)\n",
    "y_pos = np.arange(len(df1[\"words in non-spam\"]))\n",
    "plt.xticks(y_pos, df1[\"words in non-spam\"])\n",
    "#plt.title(\"More frequent words in non-spam messages\")\n",
    "plt.xlabel('words')\n",
    "plt.ylabel('number')\n",
    "plt.show()"
   ]
  },
  {
   "cell_type": "code",
   "execution_count": 25,
   "metadata": {},
   "outputs": [
    {
     "data": {
      "image/png": "[encoded data removed]",
      "text/plain": [
       "<Figure size 432x288 with 1 Axes>"
      ]
     },
     "metadata": {
      "needs_background": "light"
     },
     "output_type": "display_data"
    }
   ],
   "source": [
    "#Spam Words\n",
    "df2.plot.bar(legend = False,  color = 'orange')\n",
    "y_pos = np.arange(len(df2[\"words in spam\"]))\n",
    "plt.xticks(y_pos, df2[\"words in spam\"])\n",
    "#plt.title('More frequent words in spam messages')\n",
    "plt.xlabel('words')\n",
    "plt.ylabel('number')\n",
    "plt.show()"
   ]
  },
  {
   "cell_type": "markdown",
   "metadata": {},
   "source": [
    "# DATA PREPROCESSING"
   ]
  },
  {
   "cell_type": "markdown",
   "metadata": {},
   "source": [
    "CREATE TOKENIZER"
   ]
  },
  {
   "cell_type": "code",
   "execution_count": 26,
   "metadata": {},
   "outputs": [
    {
     "data": {
      "text/plain": [
       "'\\n    1. Remove punctuation\\n    2. Remove stopwords\\n    3. Return list of clean text words\\n    '"
      ]
     },
     "execution_count": 26,
     "metadata": {},
     "output_type": "execute_result"
    }
   ],
   "source": [
    "'''\n",
    "    1. Remove punctuation\n",
    "    2. Remove stopwords\n",
    "    3. Return list of clean text words\n",
    "    '''\n",
    " "
   ]
  },
  {
   "cell_type": "code",
   "execution_count": 27,
   "metadata": {},
   "outputs": [],
   "source": [
    "import nltk\n",
    "from nltk.corpus import stopwords\n",
    "import string"
   ]
  },
  {
   "cell_type": "code",
   "execution_count": 35,
   "metadata": {},
   "outputs": [],
   "source": [
    "def process_text(text):\n",
    "    #Removing Punctuation\n",
    "    nonpunch = [char for char in text if char not in string.punctuation]\n",
    "    nonpunch = ''.join(nonpunch)\n",
    "    \n",
    "    #Removinr Stopwords\n",
    "    clean_word = [word for word in nonpunch.split() if word.lower() not in stopwords.words('english')]\n",
    "    \n",
    "    return clean_word"
   ]
  },
  {
   "cell_type": "code",
   "execution_count": 36,
   "metadata": {},
   "outputs": [
    {
     "data": {
      "text/plain": [
       "0    [Go, jurong, point, crazy, Available, bugis, n...\n",
       "1                       [Ok, lar, Joking, wif, u, oni]\n",
       "2    [Free, entry, 2, wkly, comp, win, FA, Cup, fin...\n",
       "3        [U, dun, say, early, hor, U, c, already, say]\n",
       "4    [Nah, dont, think, goes, usf, lives, around, t...\n",
       "Name: Message, dtype: object"
      ]
     },
     "execution_count": 36,
     "metadata": {},
     "output_type": "execute_result"
    }
   ],
   "source": [
    "df['Message'].apply(process_text).head()"
   ]
  },
  {
   "cell_type": "markdown",
   "metadata": {},
   "source": [
    "# Model Creation"
   ]
  },
  {
   "cell_type": "code",
   "execution_count": 37,
   "metadata": {},
   "outputs": [],
   "source": [
    "from sklearn.model_selection import train_test_split\n",
    "from sklearn.pipeline import Pipeline\n",
    "from sklearn.feature_extraction.text import CountVectorizer\n",
    "from sklearn.feature_extraction.text import TfidfTransformer\n",
    "from sklearn.naive_bayes import MultinomialNB\n"
   ]
  },
  {
   "cell_type": "code",
   "execution_count": 38,
   "metadata": {},
   "outputs": [],
   "source": [
    "X_train, X_test, Y_train, Y_test = train_test_split(df['Message'], df['Lable'], test_size = 0.2)"
   ]
  },
  {
   "cell_type": "markdown",
   "metadata": {},
   "source": [
    "here I'll just use pipeline in order to minimize effort on doing preprocessing, transforming then training data on both training dataset and test dataset. Using pipeline will handle them all in a few lines of codes."
   ]
  },
  {
   "cell_type": "code",
   "execution_count": 39,
   "metadata": {},
   "outputs": [],
   "source": [
    "pipeline = Pipeline([\n",
    "    ('bow', CountVectorizer(analyzer=process_text)), #Convert String to Inrteger Count\n",
    "    ('tfidf', TfidfTransformer()), #Convert interger to Weighted TF-IDF score\n",
    "    ('clssifier',MultinomialNB()) #Train Tf-IDF vectors with Navie Bayes Classifier\n",
    "    \n",
    "])"
   ]
  },
  {
   "cell_type": "code",
   "execution_count": 40,
   "metadata": {},
   "outputs": [
    {
     "data": {
      "text/plain": [
       "Pipeline(memory=None,\n",
       "     steps=[('bow', CountVectorizer(analyzer=<function process_text at 0x0000000013869E18>,\n",
       "        binary=False, decode_error='strict', dtype=<class 'numpy.int64'>,\n",
       "        encoding='utf-8', input='content', lowercase=True, max_df=1.0,\n",
       "        max_features=None, min_df=1, ngram_range=(1, 1), preprocesso...tf=False, use_idf=True)), ('clssifier', MultinomialNB(alpha=1.0, class_prior=None, fit_prior=True))])"
      ]
     },
     "execution_count": 40,
     "metadata": {},
     "output_type": "execute_result"
    }
   ],
   "source": [
    "pipeline.fit(X_train,Y_train)"
   ]
  },
  {
   "cell_type": "code",
   "execution_count": 42,
   "metadata": {},
   "outputs": [],
   "source": [
    "X_Predict=pipeline.predict(X_test)"
   ]
  },
  {
   "cell_type": "code",
   "execution_count": 43,
   "metadata": {},
   "outputs": [
    {
     "name": "stdout",
     "output_type": "stream",
     "text": [
      "[('ham', 'ham'), ('ham', 'ham'), ('ham', 'ham'), ('ham', 'ham'), ('ham', 'ham'), ('ham', 'ham'), ('spam', 'ham'), ('ham', 'ham'), ('ham', 'ham'), ('ham', 'ham'), ('ham', 'ham'), ('ham', 'ham'), ('spam', 'spam'), ('spam', 'spam'), ('ham', 'ham'), ('ham', 'ham'), ('ham', 'ham'), ('ham', 'ham'), ('ham', 'ham'), ('ham', 'ham'), ('ham', 'ham'), ('ham', 'ham'), ('spam', 'spam'), ('ham', 'ham'), ('ham', 'ham'), ('ham', 'ham'), ('ham', 'ham'), ('ham', 'ham'), ('ham', 'ham'), ('ham', 'ham'), ('ham', 'ham'), ('spam', 'spam'), ('ham', 'ham'), ('ham', 'ham'), ('spam', 'spam'), ('ham', 'ham'), ('ham', 'ham'), ('ham', 'ham'), ('ham', 'ham'), ('ham', 'ham'), ('ham', 'ham'), ('ham', 'ham'), ('ham', 'ham'), ('ham', 'ham'), ('ham', 'ham'), ('spam', 'spam'), ('ham', 'ham'), ('spam', 'ham'), ('ham', 'ham'), ('ham', 'ham'), ('ham', 'ham'), ('ham', 'ham'), ('ham', 'ham'), ('ham', 'ham'), ('ham', 'ham'), ('ham', 'ham'), ('spam', 'spam'), ('spam', 'ham'), ('spam', 'spam'), ('ham', 'ham'), ('spam', 'spam'), ('ham', 'ham'), ('spam', 'spam'), ('ham', 'ham'), ('ham', 'ham'), ('ham', 'ham'), ('ham', 'ham'), ('ham', 'ham'), ('ham', 'ham'), ('ham', 'ham'), ('ham', 'ham'), ('ham', 'ham'), ('ham', 'ham'), ('ham', 'ham'), ('ham', 'ham'), ('ham', 'ham'), ('spam', 'spam'), ('ham', 'ham'), ('ham', 'ham'), ('ham', 'ham'), ('ham', 'ham'), ('ham', 'ham'), ('ham', 'ham'), ('ham', 'ham'), ('ham', 'ham'), ('spam', 'spam'), ('spam', 'spam'), ('ham', 'ham'), ('ham', 'ham'), ('ham', 'ham'), ('ham', 'ham'), ('ham', 'ham'), ('spam', 'spam'), ('ham', 'ham'), ('ham', 'ham'), ('spam', 'spam'), ('ham', 'ham'), ('ham', 'ham'), ('ham', 'ham'), ('ham', 'ham'), ('ham', 'ham'), ('ham', 'ham'), ('spam', 'spam'), ('ham', 'ham'), ('ham', 'ham'), ('ham', 'ham'), ('ham', 'ham'), ('ham', 'ham'), ('spam', 'spam'), ('ham', 'ham'), ('spam', 'ham'), ('ham', 'ham'), ('ham', 'ham'), ('ham', 'ham'), ('ham', 'ham'), ('ham', 'ham'), ('ham', 'ham'), ('ham', 'ham'), ('ham', 'ham'), ('spam', 'spam'), ('ham', 'ham'), ('ham', 'ham'), ('ham', 'ham'), ('ham', 'ham'), ('ham', 'ham'), ('ham', 'ham'), ('ham', 'ham'), ('ham', 'ham'), ('ham', 'ham'), ('ham', 'ham'), ('ham', 'ham'), ('ham', 'ham'), ('ham', 'ham'), ('ham', 'ham'), ('ham', 'ham'), ('ham', 'ham'), ('ham', 'ham'), ('ham', 'ham'), ('ham', 'ham'), ('ham', 'ham'), ('ham', 'ham'), ('ham', 'ham'), ('ham', 'ham'), ('ham', 'ham'), ('spam', 'spam'), ('ham', 'ham'), ('ham', 'ham'), ('ham', 'ham'), ('ham', 'ham'), ('ham', 'ham'), ('ham', 'ham'), ('ham', 'ham'), ('ham', 'ham'), ('ham', 'ham'), ('ham', 'ham'), ('ham', 'ham'), ('ham', 'ham'), ('ham', 'ham'), ('ham', 'ham'), ('ham', 'ham'), ('ham', 'ham'), ('spam', 'ham'), ('ham', 'ham'), ('ham', 'ham'), ('ham', 'ham'), ('ham', 'ham'), ('spam', 'spam'), ('spam', 'spam'), ('ham', 'ham'), ('ham', 'ham'), ('ham', 'ham'), ('ham', 'ham'), ('ham', 'ham'), ('ham', 'ham'), ('ham', 'ham'), ('ham', 'ham'), ('spam', 'ham'), ('spam', 'spam'), ('ham', 'ham'), ('ham', 'ham'), ('ham', 'ham'), ('ham', 'ham'), ('ham', 'ham'), ('spam', 'spam'), ('spam', 'spam'), ('spam', 'spam'), ('ham', 'ham'), ('ham', 'ham'), ('ham', 'ham'), ('ham', 'ham'), ('ham', 'ham'), ('ham', 'ham'), ('ham', 'ham'), ('spam', 'spam'), ('ham', 'ham'), ('ham', 'ham'), ('ham', 'ham'), ('ham', 'ham'), ('ham', 'ham'), ('spam', 'ham'), ('ham', 'ham'), ('ham', 'ham'), ('spam', 'spam'), ('ham', 'ham'), ('ham', 'ham'), ('ham', 'ham'), ('ham', 'ham'), ('ham', 'ham'), ('ham', 'ham'), ('ham', 'ham'), ('ham', 'ham'), ('ham', 'ham'), ('ham', 'ham'), ('ham', 'ham'), ('spam', 'spam'), ('ham', 'ham'), ('ham', 'ham'), ('ham', 'ham'), ('ham', 'ham'), ('ham', 'ham'), ('ham', 'ham'), ('ham', 'ham'), ('spam', 'spam'), ('ham', 'ham'), ('ham', 'ham'), ('ham', 'ham'), ('spam', 'spam'), ('ham', 'ham'), ('ham', 'ham'), ('ham', 'ham'), ('ham', 'ham'), ('ham', 'ham'), ('ham', 'ham'), ('ham', 'ham'), ('ham', 'ham'), ('ham', 'ham'), ('ham', 'ham'), ('ham', 'ham'), ('ham', 'ham'), ('ham', 'ham'), ('ham', 'ham'), ('ham', 'ham'), ('spam', 'spam'), ('spam', 'spam'), ('ham', 'ham'), ('ham', 'ham'), ('ham', 'ham'), ('ham', 'ham'), ('ham', 'ham'), ('ham', 'ham'), ('ham', 'ham'), ('ham', 'ham'), ('ham', 'ham'), ('ham', 'ham'), ('ham', 'ham'), ('ham', 'ham'), ('ham', 'ham'), ('ham', 'ham'), ('ham', 'ham'), ('ham', 'ham'), ('ham', 'ham'), ('spam', 'ham'), ('ham', 'ham'), ('ham', 'ham'), ('ham', 'ham'), ('ham', 'ham'), ('ham', 'ham'), ('ham', 'ham'), ('ham', 'ham'), ('ham', 'ham'), ('ham', 'ham'), ('ham', 'ham'), ('ham', 'ham'), ('ham', 'ham'), ('ham', 'ham'), ('ham', 'ham'), ('ham', 'ham'), ('ham', 'ham'), ('ham', 'ham'), ('spam', 'spam'), ('ham', 'ham'), ('ham', 'ham'), ('ham', 'ham'), ('ham', 'ham'), ('ham', 'ham'), ('spam', 'ham'), ('ham', 'ham'), ('ham', 'ham'), ('ham', 'ham'), ('ham', 'ham'), ('ham', 'ham'), ('ham', 'ham'), ('ham', 'ham'), ('ham', 'ham'), ('spam', 'ham'), ('ham', 'ham'), ('ham', 'ham'), ('ham', 'ham'), ('ham', 'ham'), ('ham', 'ham'), ('ham', 'ham'), ('ham', 'ham'), ('ham', 'ham'), ('spam', 'ham'), ('ham', 'ham'), ('ham', 'ham'), ('ham', 'ham'), ('ham', 'ham'), ('ham', 'ham'), ('ham', 'ham'), ('ham', 'ham'), ('ham', 'ham'), ('ham', 'ham'), ('spam', 'spam'), ('ham', 'ham'), ('ham', 'ham'), ('ham', 'ham'), ('ham', 'ham'), ('ham', 'ham'), ('ham', 'ham'), ('spam', 'ham'), ('spam', 'spam'), ('ham', 'ham'), ('ham', 'ham'), ('ham', 'ham'), ('ham', 'ham'), ('ham', 'ham'), ('ham', 'ham'), ('ham', 'ham'), ('ham', 'ham'), ('ham', 'ham'), ('ham', 'ham'), ('ham', 'ham'), ('ham', 'ham'), ('ham', 'ham'), ('ham', 'ham'), ('ham', 'ham'), ('ham', 'ham'), ('ham', 'ham'), ('spam', 'spam'), ('spam', 'spam'), ('spam', 'ham'), ('ham', 'ham'), ('ham', 'ham'), ('ham', 'ham'), ('spam', 'spam'), ('ham', 'ham'), ('ham', 'ham'), ('spam', 'ham'), ('spam', 'ham'), ('ham', 'ham'), ('ham', 'ham'), ('ham', 'ham'), ('ham', 'ham'), ('ham', 'ham'), ('ham', 'ham'), ('ham', 'ham'), ('ham', 'ham'), ('ham', 'ham'), ('ham', 'ham'), ('ham', 'ham'), ('ham', 'ham'), ('ham', 'ham'), ('ham', 'ham'), ('spam', 'spam'), ('spam', 'spam'), ('ham', 'ham'), ('ham', 'ham'), ('ham', 'ham'), ('ham', 'ham'), ('ham', 'ham'), ('ham', 'ham'), ('ham', 'ham'), ('ham', 'ham'), ('spam', 'spam'), ('ham', 'ham'), ('ham', 'ham'), ('ham', 'ham'), ('ham', 'ham'), ('ham', 'ham'), ('ham', 'ham'), ('ham', 'ham'), ('spam', 'ham'), ('ham', 'ham'), ('ham', 'ham'), ('ham', 'ham'), ('spam', 'spam'), ('ham', 'ham'), ('ham', 'ham'), ('spam', 'spam'), ('ham', 'ham'), ('ham', 'ham'), ('ham', 'ham'), ('spam', 'spam'), ('spam', 'ham'), ('spam', 'spam'), ('ham', 'ham'), ('ham', 'ham'), ('spam', 'spam'), ('ham', 'ham'), ('ham', 'ham'), ('ham', 'ham'), ('ham', 'ham'), ('ham', 'ham'), ('ham', 'ham'), ('spam', 'spam'), ('ham', 'ham'), ('ham', 'ham'), ('ham', 'ham'), ('ham', 'ham'), ('spam', 'spam'), ('ham', 'ham'), ('ham', 'ham'), ('ham', 'ham'), ('ham', 'ham'), ('spam', 'ham'), ('ham', 'ham'), ('ham', 'ham'), ('ham', 'ham'), ('ham', 'ham'), ('ham', 'ham'), ('ham', 'ham'), ('ham', 'ham'), ('ham', 'ham'), ('spam', 'spam'), ('ham', 'ham'), ('ham', 'ham'), ('spam', 'ham'), ('spam', 'spam'), ('ham', 'ham'), ('spam', 'ham'), ('ham', 'ham'), ('ham', 'ham'), ('ham', 'ham'), ('ham', 'ham'), ('ham', 'ham'), ('ham', 'ham'), ('ham', 'ham'), ('ham', 'ham'), ('ham', 'ham'), ('ham', 'ham'), ('ham', 'ham'), ('ham', 'ham'), ('ham', 'ham'), ('ham', 'ham'), ('ham', 'ham'), ('ham', 'ham'), ('ham', 'ham'), ('ham', 'ham'), ('spam', 'spam'), ('ham', 'ham'), ('ham', 'ham'), ('ham', 'ham'), ('ham', 'ham'), ('ham', 'ham'), ('ham', 'ham'), ('ham', 'ham'), ('ham', 'ham'), ('ham', 'ham'), ('ham', 'ham'), ('ham', 'ham'), ('ham', 'ham'), ('ham', 'ham'), ('ham', 'ham'), ('ham', 'ham'), ('spam', 'spam'), ('ham', 'ham'), ('ham', 'ham'), ('ham', 'ham'), ('ham', 'ham'), ('ham', 'ham'), ('ham', 'ham'), ('spam', 'ham'), ('ham', 'ham'), ('ham', 'ham'), ('ham', 'ham'), ('ham', 'ham'), ('ham', 'ham'), ('ham', 'ham'), ('ham', 'ham'), ('spam', 'spam'), ('ham', 'ham'), ('ham', 'ham'), ('spam', 'ham'), ('ham', 'ham'), ('ham', 'ham'), ('ham', 'ham'), ('ham', 'ham'), ('ham', 'ham'), ('ham', 'ham'), ('ham', 'ham'), ('ham', 'ham'), ('spam', 'spam'), ('spam', 'spam'), ('ham', 'ham'), ('ham', 'ham'), ('ham', 'ham'), ('ham', 'ham'), ('ham', 'ham'), ('ham', 'ham'), ('ham', 'ham'), ('ham', 'ham'), ('ham', 'ham'), ('ham', 'ham'), ('ham', 'ham'), ('ham', 'ham'), ('ham', 'ham'), ('ham', 'ham'), ('spam', 'spam'), ('ham', 'ham'), ('ham', 'ham'), ('ham', 'ham'), ('ham', 'ham'), ('ham', 'ham'), ('ham', 'ham'), ('ham', 'ham'), ('ham', 'ham'), ('ham', 'ham'), ('ham', 'ham'), ('ham', 'ham'), ('ham', 'ham'), ('ham', 'ham'), ('ham', 'ham'), ('spam', 'ham'), ('ham', 'ham'), ('spam', 'ham'), ('ham', 'ham'), ('spam', 'spam'), ('ham', 'ham'), ('spam', 'ham'), ('ham', 'ham'), ('ham', 'ham'), ('spam', 'ham'), ('ham', 'ham'), ('ham', 'ham'), ('ham', 'ham'), ('ham', 'ham'), ('spam', 'spam'), ('ham', 'ham'), ('ham', 'ham'), ('ham', 'ham'), ('ham', 'ham'), ('ham', 'ham'), ('ham', 'ham'), ('ham', 'ham'), ('ham', 'ham'), ('ham', 'ham'), ('ham', 'ham'), ('spam', 'ham'), ('ham', 'ham'), ('ham', 'ham'), ('ham', 'ham'), ('ham', 'ham'), ('ham', 'ham'), ('ham', 'ham'), ('ham', 'ham'), ('ham', 'ham'), ('ham', 'ham'), ('ham', 'ham'), ('ham', 'ham'), ('spam', 'spam'), ('ham', 'ham'), ('spam', 'spam'), ('ham', 'ham'), ('ham', 'ham'), ('ham', 'ham'), ('ham', 'ham'), ('ham', 'ham'), ('ham', 'ham'), ('spam', 'spam'), ('ham', 'ham'), ('ham', 'ham'), ('spam', 'spam'), ('ham', 'ham'), ('ham', 'ham'), ('ham', 'ham'), ('ham', 'ham'), ('ham', 'ham'), ('ham', 'ham'), ('ham', 'ham'), ('ham', 'ham'), ('ham', 'ham'), ('spam', 'spam'), ('ham', 'ham'), ('ham', 'ham'), ('ham', 'ham'), ('ham', 'ham'), ('ham', 'ham'), ('spam', 'ham'), ('ham', 'ham'), ('ham', 'ham'), ('ham', 'ham'), ('ham', 'ham'), ('ham', 'ham'), ('ham', 'ham'), ('ham', 'ham'), ('ham', 'ham'), ('ham', 'ham'), ('ham', 'ham'), ('spam', 'spam'), ('spam', 'spam'), ('ham', 'ham'), ('ham', 'ham'), ('ham', 'ham'), ('ham', 'ham'), ('ham', 'ham'), ('ham', 'ham'), ('ham', 'ham'), ('ham', 'ham'), ('ham', 'ham'), ('ham', 'ham'), ('ham', 'ham'), ('ham', 'ham'), ('ham', 'ham'), ('ham', 'ham'), ('ham', 'ham'), ('ham', 'ham'), ('ham', 'ham'), ('ham', 'ham'), ('ham', 'ham'), ('ham', 'ham'), ('ham', 'ham'), ('ham', 'ham'), ('ham', 'ham'), ('ham', 'ham'), ('ham', 'ham'), ('spam', 'spam'), ('ham', 'ham'), ('ham', 'ham'), ('ham', 'ham'), ('ham', 'ham'), ('ham', 'ham'), ('ham', 'ham'), ('ham', 'ham'), ('ham', 'ham'), ('ham', 'ham'), ('ham', 'ham'), ('ham', 'ham'), ('ham', 'ham'), ('ham', 'ham'), ('ham', 'ham'), ('ham', 'ham'), ('ham', 'ham'), ('spam', 'spam'), ('ham', 'ham'), ('ham', 'ham'), ('ham', 'ham'), ('spam', 'spam'), ('ham', 'ham'), ('ham', 'ham'), ('ham', 'ham'), ('ham', 'ham'), ('spam', 'spam'), ('ham', 'ham'), ('ham', 'ham'), ('ham', 'ham'), ('ham', 'ham'), ('ham', 'ham'), ('ham', 'ham'), ('ham', 'ham'), ('ham', 'ham'), ('ham', 'ham'), ('ham', 'ham'), ('ham', 'ham'), ('ham', 'ham'), ('spam', 'ham'), ('ham', 'ham'), ('ham', 'ham'), ('ham', 'ham'), ('ham', 'ham'), ('spam', 'spam'), ('ham', 'ham'), ('ham', 'ham'), ('ham', 'ham'), ('ham', 'ham'), ('ham', 'ham'), ('ham', 'ham'), ('ham', 'ham'), ('ham', 'ham'), ('ham', 'ham'), ('spam', 'spam'), ('ham', 'ham'), ('ham', 'ham'), ('ham', 'ham'), ('spam', 'ham'), ('ham', 'ham'), ('ham', 'ham'), ('ham', 'ham'), ('spam', 'spam'), ('ham', 'ham'), ('ham', 'ham'), ('ham', 'ham'), ('ham', 'ham'), ('ham', 'ham'), ('ham', 'ham'), ('ham', 'ham'), ('ham', 'ham'), ('ham', 'ham'), ('ham', 'ham'), ('ham', 'ham'), ('ham', 'ham'), ('ham', 'ham'), ('ham', 'ham'), ('spam', 'ham'), ('spam', 'spam'), ('ham', 'ham'), ('spam', 'spam'), ('ham', 'ham'), ('spam', 'spam'), ('ham', 'ham'), ('ham', 'ham'), ('ham', 'ham'), ('ham', 'ham'), ('ham', 'ham'), ('spam', 'ham'), ('ham', 'ham'), ('ham', 'ham'), ('ham', 'ham'), ('ham', 'ham'), ('ham', 'ham'), ('ham', 'ham'), ('ham', 'ham'), ('ham', 'ham'), ('ham', 'ham'), ('ham', 'ham'), ('ham', 'ham'), ('ham', 'ham'), ('ham', 'ham'), ('ham', 'ham'), ('ham', 'ham'), ('ham', 'ham'), ('ham', 'ham'), ('ham', 'ham'), ('ham', 'ham'), ('ham', 'ham'), ('ham', 'ham'), ('ham', 'ham'), ('spam', 'ham'), ('ham', 'ham'), ('ham', 'ham'), ('ham', 'ham'), ('ham', 'ham'), ('spam', 'ham'), ('ham', 'ham'), ('ham', 'ham'), ('ham', 'ham'), ('ham', 'ham'), ('ham', 'ham'), ('ham', 'ham'), ('spam', 'spam'), ('ham', 'ham'), ('ham', 'ham'), ('ham', 'ham'), ('ham', 'ham'), ('ham', 'ham'), ('ham', 'ham'), ('ham', 'ham'), ('ham', 'ham'), ('ham', 'ham'), ('ham', 'ham'), ('spam', 'spam'), ('ham', 'ham'), ('ham', 'ham'), ('ham', 'ham'), ('ham', 'ham'), ('ham', 'ham'), ('ham', 'ham'), ('ham', 'ham'), ('ham', 'ham'), ('ham', 'ham'), ('ham', 'ham'), ('ham', 'ham'), ('ham', 'ham'), ('spam', 'spam'), ('spam', 'ham'), ('ham', 'ham'), ('ham', 'ham'), ('ham', 'ham'), ('ham', 'ham'), ('ham', 'ham'), ('ham', 'ham'), ('ham', 'ham'), ('ham', 'ham'), ('ham', 'ham'), ('spam', 'spam'), ('ham', 'ham'), ('ham', 'ham'), ('ham', 'ham'), ('spam', 'ham'), ('spam', 'spam'), ('spam', 'ham'), ('spam', 'spam'), ('ham', 'ham'), ('ham', 'ham'), ('ham', 'ham'), ('ham', 'ham'), ('ham', 'ham'), ('ham', 'ham'), ('ham', 'ham'), ('ham', 'ham'), ('spam', 'spam'), ('ham', 'ham'), ('ham', 'ham'), ('ham', 'ham'), ('ham', 'ham'), ('ham', 'ham'), ('spam', 'ham'), ('spam', 'spam'), ('ham', 'ham'), ('ham', 'ham'), ('spam', 'spam'), ('ham', 'ham'), ('ham', 'ham'), ('ham', 'ham'), ('ham', 'ham'), ('ham', 'ham'), ('ham', 'ham'), ('spam', 'spam'), ('ham', 'ham'), ('ham', 'ham'), ('spam', 'ham'), ('ham', 'ham'), ('ham', 'ham'), ('spam', 'spam'), ('ham', 'ham'), ('ham', 'ham'), ('ham', 'ham'), ('ham', 'ham'), ('ham', 'ham'), ('ham', 'ham'), ('spam', 'spam'), ('ham', 'ham'), ('ham', 'ham'), ('ham', 'ham'), ('ham', 'ham'), ('ham', 'ham'), ('ham', 'ham'), ('ham', 'ham'), ('ham', 'ham'), ('ham', 'ham'), ('spam', 'ham'), ('ham', 'ham'), ('ham', 'ham'), ('ham', 'ham'), ('ham', 'ham'), ('spam', 'spam'), ('spam', 'ham'), ('ham', 'ham'), ('ham', 'ham'), ('ham', 'ham'), ('spam', 'spam'), ('ham', 'ham'), ('ham', 'ham'), ('ham', 'ham'), ('spam', 'spam'), ('ham', 'ham'), ('spam', 'spam'), ('ham', 'ham'), ('spam', 'spam'), ('ham', 'ham'), ('ham', 'ham'), ('spam', 'spam'), ('ham', 'ham'), ('ham', 'ham'), ('ham', 'ham'), ('ham', 'ham'), ('ham', 'ham'), ('ham', 'ham'), ('ham', 'ham'), ('ham', 'ham'), ('ham', 'ham'), ('ham', 'ham'), ('ham', 'ham'), ('spam', 'spam'), ('ham', 'ham'), ('ham', 'ham'), ('spam', 'spam'), ('ham', 'ham'), ('ham', 'ham'), ('ham', 'ham'), ('ham', 'ham'), ('ham', 'ham'), ('spam', 'spam'), ('ham', 'ham'), ('ham', 'ham'), ('ham', 'ham'), ('ham', 'ham'), ('ham', 'ham'), ('ham', 'ham'), ('ham', 'ham'), ('ham', 'ham'), ('ham', 'ham'), ('ham', 'ham'), ('ham', 'ham'), ('ham', 'ham'), ('ham', 'ham'), ('ham', 'ham'), ('spam', 'ham'), ('ham', 'ham'), ('ham', 'ham'), ('ham', 'ham'), ('spam', 'spam'), ('ham', 'ham'), ('ham', 'ham'), ('ham', 'ham'), ('ham', 'ham'), ('ham', 'ham'), ('ham', 'ham'), ('ham', 'ham'), ('spam', 'spam'), ('spam', 'spam'), ('ham', 'ham'), ('ham', 'ham'), ('ham', 'ham'), ('ham', 'ham'), ('ham', 'ham'), ('ham', 'ham'), ('ham', 'ham'), ('ham', 'ham'), ('ham', 'ham'), ('ham', 'ham'), ('ham', 'ham'), ('ham', 'ham'), ('ham', 'ham'), ('spam', 'spam'), ('ham', 'ham'), ('ham', 'ham'), ('ham', 'ham'), ('ham', 'ham'), ('ham', 'ham'), ('ham', 'ham'), ('ham', 'ham'), ('ham', 'ham'), ('ham', 'ham'), ('ham', 'ham'), ('ham', 'ham'), ('ham', 'ham'), ('spam', 'ham'), ('ham', 'ham'), ('ham', 'ham'), ('ham', 'ham'), ('ham', 'ham'), ('ham', 'ham'), ('ham', 'ham'), ('ham', 'ham'), ('ham', 'ham'), ('ham', 'ham'), ('ham', 'ham'), ('spam', 'spam'), ('ham', 'ham'), ('ham', 'ham'), ('ham', 'ham'), ('ham', 'ham'), ('ham', 'ham'), ('ham', 'ham'), ('ham', 'ham'), ('ham', 'ham'), ('ham', 'ham'), ('spam', 'spam'), ('ham', 'ham'), ('ham', 'ham'), ('ham', 'ham'), ('ham', 'ham'), ('ham', 'ham'), ('ham', 'ham'), ('ham', 'ham'), ('ham', 'ham'), ('ham', 'ham'), ('ham', 'ham'), ('ham', 'ham'), ('spam', 'spam'), ('ham', 'ham'), ('ham', 'ham'), ('spam', 'spam'), ('ham', 'ham'), ('ham', 'ham'), ('ham', 'ham'), ('ham', 'ham'), ('ham', 'ham'), ('ham', 'ham'), ('ham', 'ham'), ('ham', 'ham'), ('ham', 'ham'), ('ham', 'ham'), ('ham', 'ham'), ('spam', 'spam'), ('ham', 'ham'), ('spam', 'spam'), ('ham', 'ham'), ('ham', 'ham'), ('ham', 'ham'), ('ham', 'ham'), ('spam', 'spam'), ('spam', 'ham'), ('ham', 'ham'), ('spam', 'ham'), ('ham', 'ham'), ('spam', 'ham'), ('ham', 'ham'), ('ham', 'ham'), ('spam', 'spam'), ('ham', 'ham'), ('ham', 'ham'), ('ham', 'ham'), ('ham', 'ham'), ('ham', 'ham'), ('ham', 'ham'), ('ham', 'ham'), ('ham', 'ham'), ('ham', 'ham'), ('ham', 'ham'), ('spam', 'spam'), ('ham', 'ham'), ('spam', 'spam'), ('spam', 'spam'), ('ham', 'ham'), ('ham', 'ham'), ('ham', 'ham'), ('ham', 'ham'), ('ham', 'ham'), ('ham', 'ham'), ('ham', 'ham'), ('ham', 'ham'), ('ham', 'ham'), ('ham', 'ham'), ('ham', 'ham'), ('ham', 'ham'), ('spam', 'spam'), ('ham', 'ham'), ('ham', 'ham'), ('ham', 'ham'), ('ham', 'ham'), ('ham', 'ham'), ('ham', 'ham'), ('ham', 'ham'), ('spam', 'spam'), ('ham', 'ham'), ('ham', 'ham'), ('ham', 'ham'), ('ham', 'ham'), ('ham', 'ham'), ('ham', 'ham'), ('ham', 'ham'), ('ham', 'ham'), ('ham', 'ham'), ('ham', 'ham'), ('ham', 'ham'), ('ham', 'ham'), ('spam', 'spam'), ('ham', 'ham'), ('ham', 'ham'), ('ham', 'ham'), ('ham', 'ham'), ('ham', 'ham'), ('ham', 'ham'), ('ham', 'ham'), ('ham', 'ham'), ('ham', 'ham'), ('ham', 'ham'), ('ham', 'ham'), ('ham', 'ham'), ('ham', 'ham'), ('ham', 'ham'), ('ham', 'ham'), ('ham', 'ham'), ('ham', 'ham'), ('ham', 'ham'), ('ham', 'ham'), ('ham', 'ham'), ('ham', 'ham'), ('ham', 'ham'), ('spam', 'spam'), ('spam', 'spam'), ('ham', 'ham'), ('ham', 'ham'), ('ham', 'ham'), ('ham', 'ham'), ('spam', 'spam'), ('ham', 'ham'), ('ham', 'ham'), ('ham', 'ham'), ('ham', 'ham'), ('ham', 'ham'), ('ham', 'ham'), ('ham', 'ham'), ('ham', 'ham'), ('ham', 'ham'), ('ham', 'ham'), ('ham', 'ham'), ('ham', 'ham'), ('ham', 'ham'), ('ham', 'ham'), ('ham', 'ham'), ('ham', 'ham'), ('ham', 'ham'), ('ham', 'ham'), ('ham', 'ham'), ('ham', 'ham'), ('spam', 'spam'), ('ham', 'ham'), ('spam', 'spam'), ('spam', 'spam'), ('ham', 'ham'), ('ham', 'ham'), ('ham', 'ham'), ('ham', 'ham'), ('ham', 'ham'), ('spam', 'spam'), ('ham', 'ham'), ('ham', 'ham'), ('ham', 'ham'), ('ham', 'ham'), ('ham', 'ham'), ('ham', 'ham'), ('ham', 'ham')]\n"
     ]
    }
   ],
   "source": [
    "print(list(zip(Y_test,X_Predict)))"
   ]
  },
  {
   "cell_type": "code",
   "execution_count": 44,
   "metadata": {},
   "outputs": [],
   "source": [
    "from sklearn.metrics import classification_report,confusion_matrix,accuracy_score\n"
   ]
  },
  {
   "cell_type": "code",
   "execution_count": 45,
   "metadata": {},
   "outputs": [
    {
     "name": "stdout",
     "output_type": "stream",
     "text": [
      "              precision    recall  f1-score   support\n",
      "\n",
      "         ham       0.95      1.00      0.98       948\n",
      "        spam       1.00      0.72      0.84       167\n",
      "\n",
      "   micro avg       0.96      0.96      0.96      1115\n",
      "   macro avg       0.98      0.86      0.91      1115\n",
      "weighted avg       0.96      0.96      0.96      1115\n",
      "\n"
     ]
    }
   ],
   "source": [
    "#Classificatio Report\n",
    "print(classification_report(Y_test,X_Predict))"
   ]
  },
  {
   "cell_type": "code",
   "execution_count": 46,
   "metadata": {},
   "outputs": [
    {
     "name": "stdout",
     "output_type": "stream",
     "text": [
      "0.9587443946188341\n"
     ]
    }
   ],
   "source": [
    "#Accuracy Report\n",
    "print(accuracy_score(Y_test,X_Predict))"
   ]
  },
  {
   "cell_type": "code",
   "execution_count": 49,
   "metadata": {},
   "outputs": [
    {
     "data": {
      "text/plain": [
       "<matplotlib.axes._subplots.AxesSubplot at 0x173389e8>"
      ]
     },
     "execution_count": 49,
     "metadata": {},
     "output_type": "execute_result"
    },
    {
     "data": {
      "image/png": "[encoded data removed]",
      "text/plain": [
       "<Figure size 432x288 with 2 Axes>"
      ]
     },
     "metadata": {
      "needs_background": "light"
     },
     "output_type": "display_data"
    }
   ],
   "source": [
    "#Confusion Matix\n",
    "import seaborn as sns\n",
    "sns.heatmap(confusion_matrix(Y_test,X_Predict),annot=True)"
   ]
  },
  {
   "cell_type": "code",
   "execution_count": null,
   "metadata": {},
   "outputs": [],
   "source": []
  }
 ],
 "metadata": {
  "kernelspec": {
   "display_name": "Python 3",
   "language": "python",
   "name": "python3"
  },
  "language_info": {
   "codemirror_mode": {
    "name": "ipython",
    "version": 3
   },
   "file_extension": ".py",
   "mimetype": "text/x-python",
   "name": "python",
   "nbconvert_exporter": "python",
   "pygments_lexer": "ipython3",
   "version": "3.7.1"
  }
 },
 "nbformat": 4,
 "nbformat_minor": 2
}
